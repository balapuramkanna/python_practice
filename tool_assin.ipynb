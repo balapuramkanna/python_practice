{
  "nbformat": 4,
  "nbformat_minor": 0,
  "metadata": {
    "colab": {
      "provenance": []
    },
    "kernelspec": {
      "name": "python3",
      "display_name": "Python 3"
    },
    "language_info": {
      "name": "python"
    }
  },
  "cells": [
    {
      "cell_type": "markdown",
      "source": [
        "# 1)**write a python program to identify primenumber.**\n"
      ],
      "metadata": {
        "id": "Jw8BFMxEDPlX"
      }
    },
    {
      "cell_type": "code",
      "execution_count": null,
      "metadata": {
        "colab": {
          "base_uri": "https://localhost:8080/"
        },
        "id": "vlhByfm-DMpb",
        "outputId": "07f16f45-3b4b-4aa4-a6c3-c3a6bf9f8a49"
      },
      "outputs": [
        {
          "output_type": "stream",
          "name": "stdout",
          "text": [
            "enter a number: 23\n",
            "it is a prime number\n"
          ]
        }
      ],
      "source": [
        "x = int(input(\"enter a number: \"))\n",
        "if x > 1:\n",
        "    for i in range(2,int(x/2+2)) :\n",
        "\n",
        "       if (x % i) == 0 :\n",
        "              print(\"it is not a prime number\")\n",
        "              break\n",
        "\n",
        "    else :\n",
        "           print(\"it is a prime number\")\n"
      ]
    },
    {
      "cell_type": "markdown",
      "source": [
        "# 2)**write a python program fibonacci series of given number.**"
      ],
      "metadata": {
        "id": "5jcDoUTHN0_2"
      }
    },
    {
      "cell_type": "code",
      "source": [
        "r = int(input(\"enter a number:\"))\n",
        "a = 0\n",
        "b = 1\n",
        "s = 0\n",
        "for x in range(r):\n",
        "  print(s,end=\" \")\n",
        "  s = a+b\n",
        "  b = a\n",
        "  a = s\n"
      ],
      "metadata": {
        "colab": {
          "base_uri": "https://localhost:8080/"
        },
        "id": "yK0vxAPoV_Ks",
        "outputId": "66e0a4fb-e216-4378-cb3f-fc6d7fdf7683"
      },
      "execution_count": 107,
      "outputs": [
        {
          "output_type": "stream",
          "name": "stdout",
          "text": [
            "enter a number:11\n",
            "0 1 1 2 3 5 8 13 21 34 55 "
          ]
        }
      ]
    },
    {
      "cell_type": "markdown",
      "source": [
        "#**3)write a python porgram to identify factoriyal number of given number.**"
      ],
      "metadata": {
        "id": "bjzKR5BKQhuX"
      }
    },
    {
      "cell_type": "code",
      "source": [
        "m = int(input(\"enter a number:\"))\n",
        "factorial = 1\n",
        "for n in range(1,m+1):\n",
        "  factorial=factorial*n\n",
        "\n",
        "  print(factorial)\n",
        "\n"
      ],
      "metadata": {
        "id": "gbg6VByxN1sX",
        "colab": {
          "base_uri": "https://localhost:8080/"
        },
        "outputId": "58e04da1-355e-46e4-de5f-8d048b1f9577"
      },
      "execution_count": 111,
      "outputs": [
        {
          "output_type": "stream",
          "name": "stdout",
          "text": [
            "enter a number:5\n",
            "1\n",
            "2\n",
            "6\n",
            "24\n",
            "120\n"
          ]
        }
      ]
    },
    {
      "cell_type": "code",
      "source": [],
      "metadata": {
        "id": "xVBUIIrGWxjO"
      },
      "execution_count": null,
      "outputs": []
    },
    {
      "cell_type": "markdown",
      "source": [
        "#**4)write a python program to print multiplication table of given number.**"
      ],
      "metadata": {
        "id": "SbGq6AEPRMoi"
      }
    },
    {
      "cell_type": "code",
      "source": [
        "t = int(input(\"enter a number:\"))\n",
        "for v in range(1,11):\n",
        "\n",
        "\n",
        "  print(t,'x',v,'=',t*v)\n"
      ],
      "metadata": {
        "id": "URsylbGgRrCJ",
        "colab": {
          "base_uri": "https://localhost:8080/"
        },
        "outputId": "dd8b1fee-9ece-4fd2-fdba-13a03668bf70"
      },
      "execution_count": 75,
      "outputs": [
        {
          "output_type": "stream",
          "name": "stdout",
          "text": [
            "enter a number:11\n",
            "11 x 1 = 11\n",
            "11 x 2 = 22\n",
            "11 x 3 = 33\n",
            "11 x 4 = 44\n",
            "11 x 5 = 55\n",
            "11 x 6 = 66\n",
            "11 x 7 = 77\n",
            "11 x 8 = 88\n",
            "11 x 9 = 99\n",
            "11 x 10 = 110\n"
          ]
        }
      ]
    },
    {
      "cell_type": "markdown",
      "source": [
        "#**5) write a python program to count total number of digits in a number.**"
      ],
      "metadata": {
        "id": "JalimydXRsBr"
      }
    },
    {
      "cell_type": "code",
      "source": [
        "a = int(input(\"enter a number:\"))\n",
        "\n",
        "count = 0\n",
        "for i in str(a):\n",
        "\n",
        "  count+=1\n",
        "  print(count)"
      ],
      "metadata": {
        "colab": {
          "base_uri": "https://localhost:8080/"
        },
        "id": "6sB24w3rcl-k",
        "outputId": "83acde3e-1453-42b0-f661-1797cde8e12a"
      },
      "execution_count": 78,
      "outputs": [
        {
          "output_type": "stream",
          "name": "stdout",
          "text": [
            "enter a number:452315464\n",
            "1\n",
            "2\n",
            "3\n",
            "4\n",
            "5\n",
            "6\n",
            "7\n",
            "8\n",
            "9\n"
          ]
        }
      ]
    },
    {
      "cell_type": "markdown",
      "source": [
        "#**6) write a python program to print list in reverse using loop.**"
      ],
      "metadata": {
        "id": "skxcIDndR8Wv"
      }
    },
    {
      "cell_type": "code",
      "source": [
        "a = [1,2,4,5,8,9,23,56,90]\n",
        "r = []\n",
        "for b in reversed(a):\n",
        "    r.append(b)\n",
        "    print(b)"
      ],
      "metadata": {
        "id": "i4nbIhNZSMFP",
        "colab": {
          "base_uri": "https://localhost:8080/"
        },
        "outputId": "77268632-77ce-4a5a-f3b2-582cc74b3c69"
      },
      "execution_count": 96,
      "outputs": [
        {
          "output_type": "stream",
          "name": "stdout",
          "text": [
            "90\n",
            "56\n",
            "23\n",
            "9\n",
            "8\n",
            "5\n",
            "4\n",
            "2\n",
            "1\n"
          ]
        }
      ]
    },
    {
      "cell_type": "markdown",
      "source": [
        "#**7)write a python program to disply from -10 to -1 using loop.**"
      ],
      "metadata": {
        "id": "Y73meFJMSMnG"
      }
    },
    {
      "cell_type": "code",
      "source": [
        "m = range(-10,0)\n",
        "for n in m:\n",
        "  print(n)"
      ],
      "metadata": {
        "id": "BX1tT7qLScVo",
        "colab": {
          "base_uri": "https://localhost:8080/"
        },
        "outputId": "93df740b-1622-4caa-b7a2-463e40db75a6"
      },
      "execution_count": 97,
      "outputs": [
        {
          "output_type": "stream",
          "name": "stdout",
          "text": [
            "-10\n",
            "-9\n",
            "-8\n",
            "-7\n",
            "-6\n",
            "-5\n",
            "-4\n",
            "-3\n",
            "-2\n",
            "-1\n"
          ]
        }
      ]
    }
  ]
}