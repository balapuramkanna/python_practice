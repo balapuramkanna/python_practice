{
 "cells": [
  {
   "cell_type": "markdown",
   "id": "796b3729-b6ec-49ba-821f-569d9930f7f9",
   "metadata": {},
   "source": [
    "# 1) resturant"
   ]
  },
  {
   "cell_type": "code",
   "execution_count": 23,
   "id": "0bb16c4c-4181-4bc5-b6b1-92c2697d08a0",
   "metadata": {},
   "outputs": [
    {
     "name": "stdout",
     "output_type": "stream",
     "text": [
      "wellcome to our ram resturant\n",
      "here is our veg and non veg menu\n",
      "veg menu :['panner curry', 'potato fry', 'gobi soup', 'veg biryani']\n",
      "nonveg menu:['fish', 'mutton', 'chicken biryani']\n"
     ]
    }
   ],
   "source": [
    "\n",
    "veg = ['panner curry','potato fry' ,'gobi soup','veg biryani']\n",
    "non_veg = ['fish','mutton','chicken biryani',]\n",
    "print(\"wellcome to our ram resturant\")\n",
    "print(\"here is our veg and non veg menu\")\n",
    "print(f'veg menu :{veg}')\n",
    "print(f'nonveg menu:{non_veg}')\n",
    "\n",
    "\n",
    "def restaurant(veg,non_veg,):\n",
    "  while true:\n",
    "       user=input('please tell your order:')\n",
    "       if user in veg:\n",
    "           print(f' we have {user}in veg,it will be ready please wait for it')\n",
    "           break\n",
    "       elif user in non_veg:\n",
    "           print(f'we have {user} in  non veg ,it will be ready please wait for it')\n",
    "       else:\n",
    "           print(f\"{user} we are not seving the current itam\")\n",
    "\n",
    "\n"
   ]
  },
  {
   "cell_type": "code",
   "execution_count": null,
   "id": "585586d0-9a1b-4a0f-b95e-113861ad4113",
   "metadata": {},
   "outputs": [],
   "source": []
  },
  {
   "cell_type": "code",
   "execution_count": null,
   "id": "cbee8d97-6aee-4c96-b173-3fbb263d3890",
   "metadata": {},
   "outputs": [],
   "source": []
  },
  {
   "cell_type": "code",
   "execution_count": null,
   "id": "f646ef19-718a-411f-b899-4aa5d7bb1755",
   "metadata": {},
   "outputs": [],
   "source": []
  },
  {
   "cell_type": "code",
   "execution_count": null,
   "id": "0889da3c-adf8-4a44-94d7-1bfa8cb4809b",
   "metadata": {},
   "outputs": [],
   "source": []
  },
  {
   "cell_type": "code",
   "execution_count": null,
   "id": "1fd6b998-a77c-4b93-9f85-47a1ed309be2",
   "metadata": {},
   "outputs": [],
   "source": []
  },
  {
   "cell_type": "code",
   "execution_count": null,
   "id": "86f52ae1-9f57-42de-b04b-4c07969a871b",
   "metadata": {},
   "outputs": [],
   "source": []
  },
  {
   "cell_type": "code",
   "execution_count": null,
   "id": "4e2aec02-8351-40cc-ad62-b067a4511055",
   "metadata": {},
   "outputs": [],
   "source": []
  },
  {
   "cell_type": "code",
   "execution_count": null,
   "id": "e98b3f56-d8e5-45e5-bc7e-36d7607abca1",
   "metadata": {},
   "outputs": [],
   "source": []
  },
  {
   "cell_type": "code",
   "execution_count": null,
   "id": "f15451d3-36f5-4c8d-b9ac-5c2d52cfbe07",
   "metadata": {},
   "outputs": [],
   "source": []
  }
 ],
 "metadata": {
  "kernelspec": {
   "display_name": "Python 3 (ipykernel)",
   "language": "python",
   "name": "python3"
  },
  "language_info": {
   "codemirror_mode": {
    "name": "ipython",
    "version": 3
   },
   "file_extension": ".py",
   "mimetype": "text/x-python",
   "name": "python",
   "nbconvert_exporter": "python",
   "pygments_lexer": "ipython3",
   "version": "3.12.4"
  }
 },
 "nbformat": 4,
 "nbformat_minor": 5
}
