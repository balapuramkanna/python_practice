{
  "nbformat": 4,
  "nbformat_minor": 0,
  "metadata": {
    "colab": {
      "provenance": []
    },
    "kernelspec": {
      "name": "python3",
      "display_name": "Python 3"
    },
    "language_info": {
      "name": "python"
    }
  },
  "cells": [
    {
      "cell_type": "code",
      "execution_count": null,
      "metadata": {
        "colab": {
          "base_uri": "https://localhost:8080/"
        },
        "id": "0hs-qo2fj8UI",
        "outputId": "a66a00ab-a1ae-4966-cef1-9f3854ac5329"
      },
      "outputs": [
        {
          "output_type": "stream",
          "name": "stdout",
          "text": [
            "31.5\n"
          ]
        }
      ],
      "source": [
        "# 1)write python code to conver list into string.\n",
        "\n",
        "h = 7\n",
        "b = 9\n",
        "\n",
        "\n",
        "area = 0.5*h*b\n",
        "print(area)\n"
      ]
    },
    {
      "cell_type": "code",
      "source": [
        "# 2)write a python code to calculate area of triangle.\n",
        "\n",
        "a = int(input(\"enter the angle \"))\n",
        "\n",
        "if a<90 and a>0:\n",
        "  print(\"Acute triangle\")\n",
        "elif a>90 and a<180:\n",
        "  print(\"obtuse triangle\")\n",
        "elif a==90 :\n",
        "  print(\"right triangle\")\n",
        "else :\n",
        "  print(\"not a triangle\")\n"
      ],
      "metadata": {
        "colab": {
          "base_uri": "https://localhost:8080/"
        },
        "id": "e_fqqz1Qk_g0",
        "outputId": "50190bd1-2390-4ae8-e3ed-cb58e662c8ec"
      },
      "execution_count": null,
      "outputs": [
        {
          "output_type": "stream",
          "name": "stdout",
          "text": [
            "enter the angle 90\n",
            "right triangle\n"
          ]
        }
      ]
    },
    {
      "cell_type": "code",
      "source": [
        "# 3) write a python code bacied on angle to identifiy ocuteangle,abtuseangle,rightangle.\n",
        "\n",
        "a = int(input(\"enter a number \"))\n",
        "b = int(input(\"enter a number \"))\n",
        "\n",
        "class cal:\n",
        "  def __init__(self,a,b):\n",
        "      self.a=a\n",
        "      self.b=b\n",
        "\n",
        "  def add(self):\n",
        "    return self.a + self.b\n",
        "  def sub(self):\n",
        "    return self.a - self.b\n",
        "  def mul(self):\n",
        "    return self.a * self.b\n",
        "  def div(self):\n",
        "    return self.a / self.b\n",
        "\n",
        "  obj = cal(a,b)\n",
        "  print(obj.add())\n",
        "  print(obj.sub())\n",
        "  print(obj.mul())\n",
        "  print(obj.div())\n",
        "\n",
        "\n",
        "\n",
        "\n"
      ],
      "metadata": {
        "colab": {
          "base_uri": "https://localhost:8080/"
        },
        "id": "sGwVdcbgqZBA",
        "outputId": "f54262f3-9ea0-42ef-979b-daa97be16b0f"
      },
      "execution_count": null,
      "outputs": [
        {
          "output_type": "stream",
          "name": "stdout",
          "text": [
            "enter a number 12\n",
            "enter a number 12\n",
            "24\n",
            "0\n",
            "144\n",
            "1.0\n"
          ]
        }
      ]
    },
    {
      "cell_type": "code",
      "source": [],
      "metadata": {
        "id": "GwDo1-ay4OgL"
      },
      "execution_count": null,
      "outputs": []
    },
    {
      "cell_type": "code",
      "source": [
        "# 4).create a class to represent a movie with attributes like title , director and rating.\n",
        "\n",
        "x = input(\"enter title of movie \")\n",
        "y = input(\"enter director name \")\n",
        "z = input(\"enter movie rating \")\n",
        "\n",
        "class movie:\n",
        "  def __init__ (self,x,y,z):\n",
        "      self.x=x\n",
        "      self.y=y\n",
        "      self.z=z\n",
        "  def film(self):\n",
        "   print(f'movie title is : {self.x}')\n",
        "   print(f'movie dirctor : {self.y}')\n",
        "   print(f'movie rating : {self.z}')\n",
        "\n",
        "\n",
        "obj = movie(x,y,z)\n",
        "obj.film()"
      ],
      "metadata": {
        "colab": {
          "base_uri": "https://localhost:8080/"
        },
        "id": "HyZ8fhasz8Q8",
        "outputId": "1fd93b1f-a9cc-4feb-a78e-018891781e19"
      },
      "execution_count": null,
      "outputs": [
        {
          "output_type": "stream",
          "name": "stdout",
          "text": [
            "enter title of movie \"VIKRAM\"\n",
            "enter director name Lokes kanakaraj\n",
            "enter movie rating 8.3\n",
            "movie title is : \"VIKRAM\"\n",
            "movie dirctor : Lokes kanakaraj\n",
            "movie rating : 8.3\n"
          ]
        }
      ]
    },
    {
      "cell_type": "code",
      "source": [
        "# 5).implement a class hierarchy to represent different different types of vehicles (cars,bike) with their own attributes and methods.\n",
        "\n",
        "name = input(\"enter bike name \")\n",
        "model = input(\"enter bike model \")\n",
        "name2 = input(\"enter car name name \")\n",
        "model2 = input(\"enter car model \")\n",
        "class bike:\n",
        "  def __init__ (self,name,model):\n",
        "        self.name=name\n",
        "        self.model=model\n",
        "  def  vahan(self):\n",
        "     print(f'bike name  : {name}')\n",
        "     print(f'bike model  : {model}')\n",
        "class car:\n",
        "  def __init__(self,name2,model2):\n",
        "        self.name2=name2\n",
        "        self.model2=model2\n",
        "  def adhd(self):\n",
        "        print(f'car name name :  {name2}')\n",
        "        print(f'car model :  {model2}')\n",
        "\n",
        "obj1 = bike(name,model)\n",
        "obj1.vahan()\n",
        "obj2 = car(name2,model2)\n",
        "obj2.adhd()"
      ],
      "metadata": {
        "colab": {
          "base_uri": "https://localhost:8080/"
        },
        "id": "oyAm3sm0z8Lp",
        "outputId": "1403bf84-bc56-4914-e21d-914c4fe5f02d"
      },
      "execution_count": 3,
      "outputs": [
        {
          "output_type": "stream",
          "name": "stdout",
          "text": [
            "enter bike name ninja \n",
            "enter car name ninja h2r\n",
            "enter bike owner name ranger rover\n",
            "enter car owner name defender 90\n",
            "bike name  : ninja \n",
            "bike model  : ninja h2r\n",
            "car name name :  ranger rover\n",
            "car model :  defender 90\n"
          ]
        }
      ]
    },
    {
      "cell_type": "markdown",
      "source": [
        "1.create a class to represent a movie with attributes like title , director and rating.\n",
        "2.implement a class hierarchy to represent different different types of vehicles (cars,bike) with their own attributes and methods"
      ],
      "metadata": {
        "id": "A0zsh_ngtpLm"
      }
    }
  ]
}