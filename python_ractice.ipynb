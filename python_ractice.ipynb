{
  "nbformat": 4,
  "nbformat_minor": 0,
  "metadata": {
    "colab": {
      "provenance": []
    },
    "kernelspec": {
      "name": "python3",
      "display_name": "Python 3"
    },
    "language_info": {
      "name": "python"
    }
  },
  "cells": [
    {
      "cell_type": "markdown",
      "source": [
        "# 1)**what is python and why is it popular**\n",
        "\n",
        "   - python is a general purpose programming language.\n",
        "\n",
        "   - Python is easy to learn and has a relatively straightforward syntax."
      ],
      "metadata": {
        "id": "Ud_LggzIa106"
      }
    },
    {
      "cell_type": "markdown",
      "source": [
        "# 2)what is an IDE and name a few popular python IDEs.\n",
        "\n",
        "   - IDE -intergrated development enviroment.\n",
        "\n",
        "   - juypter\n",
        "   \n",
        "   -google colab."
      ],
      "metadata": {
        "id": "Gp4uL2OjcTj4"
      }
    },
    {
      "cell_type": "markdown",
      "source": [
        "# 3)what are rules for naming variables in python.\n",
        "\n",
        "  - they can be alphanumeric.\n",
        "\n",
        "  - they cannot start with digits,keywords and special chareters.\n",
        "\n",
        "  - excpet _ and  .\n",
        "  "
      ],
      "metadata": {
        "id": "lXQyxKSEcTPG"
      }
    },
    {
      "cell_type": "markdown",
      "source": [
        "# 4) how do you assign multipule values to multipule variables in a single line?"
      ],
      "metadata": {
        "id": "Spd8H8gNfS2C"
      }
    },
    {
      "cell_type": "code",
      "source": [
        "p,q ,r= 25,34,42\n",
        "\n",
        "print(p)\n",
        "print(q)\n",
        "print(r)"
      ],
      "metadata": {
        "colab": {
          "base_uri": "https://localhost:8080/"
        },
        "id": "k1bKEwKecSMc",
        "outputId": "1f643775-4fd2-43e1-9a0d-18b360738029"
      },
      "execution_count": 6,
      "outputs": [
        {
          "output_type": "stream",
          "name": "stdout",
          "text": [
            "25\n",
            "34\n",
            "42\n"
          ]
        }
      ]
    },
    {
      "cell_type": "markdown",
      "source": [
        "# 5)can you use python keywords as varible names ? why or why not?\n",
        "\n",
        "  - no we can use python keywords as varible names.\n",
        "\n",
        "  - if we use we get error."
      ],
      "metadata": {
        "id": "IxWh_hnHgaKW"
      }
    },
    {
      "cell_type": "markdown",
      "source": [
        "# 6)why are the comments important in programming?\n",
        "\n",
        "  - it help us to understand the cord easy.\n",
        "\n",
        "  - it is essential part of programming language."
      ],
      "metadata": {
        "id": "_61DfnNZhNmA"
      }
    },
    {
      "cell_type": "markdown",
      "source": [
        "# 7) what are the basic data types in python?\n",
        "\n",
        "  - there are four basic data types\n",
        "\n",
        "  - integer\n",
        "\n",
        "  - floot\n",
        "\n",
        "  - complex\n",
        "\n",
        "  - bool\n",
        "  "
      ],
      "metadata": {
        "id": "GO77t34XmguN"
      }
    },
    {
      "cell_type": "markdown",
      "source": [
        "# 8) how do you convert a string to an integer in python?\n",
        "\n",
        "   "
      ],
      "metadata": {
        "id": "AgcTSF6VmhWC"
      }
    },
    {
      "cell_type": "code",
      "execution_count": 7,
      "metadata": {
        "colab": {
          "base_uri": "https://localhost:8080/"
        },
        "id": "Hngt72lpatfh",
        "outputId": "b1dd4148-0dd7-4586-ce28-b99ab848b3ca"
      },
      "outputs": [
        {
          "output_type": "stream",
          "name": "stdout",
          "text": [
            "25\n"
          ]
        }
      ],
      "source": [
        "number = \"25\"\n",
        "number = int(number)\n",
        "print(number)"
      ]
    },
    {
      "cell_type": "markdown",
      "source": [
        "# 9) what is difference between int and floot?\n",
        "\n",
        "   - int = 4,5,7,9.\n",
        "   -floot = 4.4,77.4,57.3."
      ],
      "metadata": {
        "id": "A0_gz6uPoTi_"
      }
    },
    {
      "cell_type": "markdown",
      "source": [
        "# 10) how do you check the data type of a varible?\n",
        "  \n",
        "  - by using type function.\n",
        "  "
      ],
      "metadata": {
        "id": "tviexoY2oyR4"
      }
    },
    {
      "cell_type": "code",
      "source": [
        "a = 45\n",
        "type(a)"
      ],
      "metadata": {
        "colab": {
          "base_uri": "https://localhost:8080/"
        },
        "id": "fOZwC6Espsg1",
        "outputId": "85ac41ce-7e55-4a47-fdc0-5ebf32ced507"
      },
      "execution_count": 8,
      "outputs": [
        {
          "output_type": "execute_result",
          "data": {
            "text/plain": [
              "int"
            ]
          },
          "metadata": {},
          "execution_count": 8
        }
      ]
    },
    {
      "cell_type": "markdown",
      "source": [
        "# 11) how do you add an element to a list?\n",
        "\n",
        "  - by using append method"
      ],
      "metadata": {
        "id": "UD6asUdQpxW-"
      }
    },
    {
      "cell_type": "code",
      "source": [
        "f = [\"apple\",\"banana\",\"cherry\"]\n",
        "f.append(\"orange\")\n",
        "print(f)"
      ],
      "metadata": {
        "colab": {
          "base_uri": "https://localhost:8080/"
        },
        "id": "bd1zkD1bqGf7",
        "outputId": "22311e68-344c-4e7c-f40e-24fa99948cee"
      },
      "execution_count": 9,
      "outputs": [
        {
          "output_type": "stream",
          "name": "stdout",
          "text": [
            "['apple', 'banana', 'cherry', 'orange']\n"
          ]
        }
      ]
    },
    {
      "cell_type": "markdown",
      "source": [
        "# 12) how do you creat tuple with one element?\n",
        "  \n",
        "  - by using (,)"
      ],
      "metadata": {
        "id": "IzQ7gEWTpxFz"
      }
    },
    {
      "cell_type": "code",
      "source": [
        "a = (8,)\n",
        "print(type(a))"
      ],
      "metadata": {
        "colab": {
          "base_uri": "https://localhost:8080/"
        },
        "id": "MlWjwiJkqzvU",
        "outputId": "0355f35b-63de-4ae3-f505-0da4bb6ad524"
      },
      "execution_count": 10,
      "outputs": [
        {
          "output_type": "stream",
          "name": "stdout",
          "text": [
            "<class 'tuple'>\n"
          ]
        }
      ]
    },
    {
      "cell_type": "markdown",
      "source": [
        "# 13) how do you access a value in a dictionary using a key?\n",
        "\n",
        "   "
      ],
      "metadata": {
        "id": "knSGQ5vxrFvt"
      }
    },
    {
      "cell_type": "code",
      "source": [
        "a = {\"m\":12,\"n\":23,\"o\":45}\n",
        "print(a[\"m\"])"
      ],
      "metadata": {
        "colab": {
          "base_uri": "https://localhost:8080/"
        },
        "id": "06XQuvJ_rgDc",
        "outputId": "888ab86b-48b2-4b67-de22-12b368fba8b4"
      },
      "execution_count": 12,
      "outputs": [
        {
          "output_type": "stream",
          "name": "stdout",
          "text": [
            "12\n"
          ]
        }
      ]
    },
    {
      "cell_type": "markdown",
      "source": [
        "# 14) how do you access element in a list."
      ],
      "metadata": {
        "id": "lMF-iLPpsEzA"
      }
    },
    {
      "cell_type": "code",
      "source": [
        "a = [1,2,3,4,5]\n",
        "print(a[2])"
      ],
      "metadata": {
        "colab": {
          "base_uri": "https://localhost:8080/"
        },
        "id": "4D9xIphjsYOg",
        "outputId": "440d708a-a35e-417c-ec1e-4c9a28d34f04"
      },
      "execution_count": 13,
      "outputs": [
        {
          "output_type": "stream",
          "name": "stdout",
          "text": [
            "3\n"
          ]
        }
      ]
    },
    {
      "cell_type": "markdown",
      "source": [
        "# 15)how do you access a character in a string?\n"
      ],
      "metadata": {
        "id": "ufiaaA2-sElv"
      }
    },
    {
      "cell_type": "code",
      "source": [
        "a = \"hello\"\n",
        "print(a[3])"
      ],
      "metadata": {
        "colab": {
          "base_uri": "https://localhost:8080/"
        },
        "id": "ZDuZ1UJks6Mz",
        "outputId": "f74ea2d0-1597-47db-c637-c1415ffa73da"
      },
      "execution_count": 14,
      "outputs": [
        {
          "output_type": "stream",
          "name": "stdout",
          "text": [
            "l\n"
          ]
        }
      ]
    },
    {
      "cell_type": "markdown",
      "source": [
        "# 16) how do you format string in python?\n"
      ],
      "metadata": {
        "id": "xqaRyBLZtCzC"
      }
    },
    {
      "cell_type": "code",
      "source": [
        "name = \"raju\"\n",
        "age = 25\n",
        "print(f\"my name is {name} and my age is {age}\")"
      ],
      "metadata": {
        "colab": {
          "base_uri": "https://localhost:8080/"
        },
        "id": "nAo7AKVMtO5c",
        "outputId": "ec0825a0-06bb-4e51-b127-cab79fddcdd0"
      },
      "execution_count": 15,
      "outputs": [
        {
          "output_type": "stream",
          "name": "stdout",
          "text": [
            "my name is raju and my age is 25\n"
          ]
        }
      ]
    },
    {
      "cell_type": "markdown",
      "source": [
        "# 17) what is a tuple and how is it different from list?\n",
        "\n",
        "   -  tuples are immutable objects, lists are mutable.\n",
        "   \n",
        "   - This means tuples cannot be changed while lists can be modified."
      ],
      "metadata": {
        "id": "XpX3kp1lt2ug"
      }
    },
    {
      "cell_type": "markdown",
      "source": [
        "# 18) how do you concantenate two tuples?\n",
        "\n",
        "  "
      ],
      "metadata": {
        "id": "1P3zj_y0vJaO"
      }
    },
    {
      "cell_type": "code",
      "source": [
        "a = (12,2,45,85)\n",
        "\n",
        "b = (49,7,65,967)\n",
        "\n",
        "c = a + b\n",
        "\n",
        "print(c)\n",
        "\n",
        "print(type(c))"
      ],
      "metadata": {
        "colab": {
          "base_uri": "https://localhost:8080/"
        },
        "id": "IQpDDr_DvhY4",
        "outputId": "2825c401-b706-4094-b839-b82d6ca78b19"
      },
      "execution_count": 17,
      "outputs": [
        {
          "output_type": "stream",
          "name": "stdout",
          "text": [
            "(12, 2, 45, 85, 49, 7, 65, 967)\n",
            "<class 'tuple'>\n"
          ]
        }
      ]
    },
    {
      "cell_type": "markdown",
      "source": [
        "# 19) how do you access values in dictinary?\n",
        "\n",
        "  "
      ],
      "metadata": {
        "id": "jleWs3dvv0YQ"
      }
    },
    {
      "cell_type": "code",
      "source": [
        " x = {\"m\":12,\"n\":23,\"o\":45}\n",
        " print(x[\"n\"])"
      ],
      "metadata": {
        "colab": {
          "base_uri": "https://localhost:8080/"
        },
        "id": "dzybb_YwwFth",
        "outputId": "3867a6a2-5e1b-44c1-db5a-874340b19984"
      },
      "execution_count": 22,
      "outputs": [
        {
          "output_type": "stream",
          "name": "stdout",
          "text": [
            "23\n"
          ]
        }
      ]
    },
    {
      "cell_type": "markdown",
      "source": [
        "# 20) how do you add a key value pair to a dictionary?"
      ],
      "metadata": {
        "id": "gyr-UdaPwL4v"
      }
    },
    {
      "cell_type": "code",
      "source": [
        "q = {\"m\":12,\"n\":23,\"o\":45}\n",
        "q[\"p\"] = 56\n",
        "print(q)"
      ],
      "metadata": {
        "colab": {
          "base_uri": "https://localhost:8080/"
        },
        "id": "4q0omeLVwEdM",
        "outputId": "9c0a0503-d37c-4d5d-a214-f1cbabca32cb"
      },
      "execution_count": 21,
      "outputs": [
        {
          "output_type": "stream",
          "name": "stdout",
          "text": [
            "{'m': 12, 'n': 23, 'o': 45, 'p': 56}\n"
          ]
        }
      ]
    },
    {
      "cell_type": "markdown",
      "source": [
        "# 21) how do you remove a key-value pair to a dictionary?\n",
        "\n",
        "  "
      ],
      "metadata": {
        "id": "9OnusDhBw4T-"
      }
    },
    {
      "cell_type": "code",
      "source": [
        "g = {\"m\":12,\"n\":23,\"o\":45}\n",
        "g.pop(\"n\")\n",
        "print(g)\n",
        "print(type(g))"
      ],
      "metadata": {
        "colab": {
          "base_uri": "https://localhost:8080/"
        },
        "id": "auiSQbiKxZdG",
        "outputId": "23c8486a-017d-4007-cada-217bd3ff13b4"
      },
      "execution_count": 26,
      "outputs": [
        {
          "output_type": "stream",
          "name": "stdout",
          "text": [
            "{'m': 12, 'o': 45}\n",
            "<class 'dict'>\n"
          ]
        }
      ]
    },
    {
      "cell_type": "markdown",
      "source": [
        "# 22) how do you add a element to a set?"
      ],
      "metadata": {
        "id": "53LNeUiZxm2C"
      }
    },
    {
      "cell_type": "code",
      "source": [
        "s = {1,2,3,4,5}\n",
        "s.add(6)\n",
        "print(s)\n",
        "\n",
        "print(type(s))"
      ],
      "metadata": {
        "colab": {
          "base_uri": "https://localhost:8080/"
        },
        "id": "oRO1y4z9x3_f",
        "outputId": "41fdfef8-7281-4e4d-bf39-c91fa5496fe3"
      },
      "execution_count": 25,
      "outputs": [
        {
          "output_type": "stream",
          "name": "stdout",
          "text": [
            "{1, 2, 3, 4, 5, 6}\n",
            "<class 'set'>\n"
          ]
        }
      ]
    },
    {
      "cell_type": "markdown",
      "source": [
        "# 23) how do remove a element from a set?\n",
        "\n",
        "  "
      ],
      "metadata": {
        "id": "f5zP9iMyyO46"
      }
    },
    {
      "cell_type": "code",
      "source": [
        "s1 = {1,2,3,4,5}\n",
        "s1.remove(3)\n",
        "print(s1)\n",
        "\n",
        "print(type(s1))"
      ],
      "metadata": {
        "colab": {
          "base_uri": "https://localhost:8080/"
        },
        "id": "9_W0xNo0ygp4",
        "outputId": "4c2d5b88-1422-49eb-dc7e-3b73a0320c23"
      },
      "execution_count": 28,
      "outputs": [
        {
          "output_type": "stream",
          "name": "stdout",
          "text": [
            "{1, 2, 4, 5}\n",
            "<class 'set'>\n"
          ]
        }
      ]
    },
    {
      "cell_type": "markdown",
      "source": [
        "# 24)what are the common set operations in pythone?\n",
        "\n",
        "  - Mathematical set operations like union, intersection, and difference can be performed on them.\n",
        "  \n",
        "  "
      ],
      "metadata": {
        "id": "yFiQizCbyraL"
      }
    },
    {
      "cell_type": "markdown",
      "source": [
        "# 25) write a python program to find the index of an element in a tuple?"
      ],
      "metadata": {
        "id": "3OirA7eBzeWm"
      }
    },
    {
      "cell_type": "code",
      "source": [
        "t = (1,2,3,4,5)\n",
        "print(t.index(4))\n",
        "\n",
        "t1 = (\"a\",\"b\",\"c\",\"d\")\n",
        "print(t1.index(\"d\"))\n",
        "\n",
        "print(type(t))\n",
        "print(type(t1))"
      ],
      "metadata": {
        "colab": {
          "base_uri": "https://localhost:8080/"
        },
        "id": "TlmQVpWezxHZ",
        "outputId": "d5a2a95b-9d2a-473d-dbc6-fc5e107f6c16"
      },
      "execution_count": 31,
      "outputs": [
        {
          "output_type": "stream",
          "name": "stdout",
          "text": [
            "3\n",
            "3\n",
            "<class 'tuple'>\n",
            "<class 'tuple'>\n"
          ]
        }
      ]
    }
  ]
}