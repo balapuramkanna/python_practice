{
  "nbformat": 4,
  "nbformat_minor": 0,
  "metadata": {
    "colab": {
      "provenance": []
    },
    "kernelspec": {
      "name": "python3",
      "display_name": "Python 3"
    },
    "language_info": {
      "name": "python"
    }
  },
  "cells": [
    {
      "cell_type": "code",
      "execution_count": null,
      "metadata": {
        "id": "riblcr3bSAqr"
      },
      "outputs": [],
      "source": []
    },
    {
      "cell_type": "markdown",
      "source": [
        "1.write the rules for creating variablus.\n",
        "  - start with alfa numaric careter.\n",
        "  - not @#$\n",
        "  -except _ .\n",
        "  -key words con't used.\n",
        "\n",
        "2.what is type funtion.\n",
        "  - type funtion used to identifiy type of data present in variblue."
      ],
      "metadata": {
        "id": "kL3tc2leSBYr"
      }
    },
    {
      "cell_type": "code",
      "source": [
        "z = \"a\",\"b\",\"c\"\n",
        "print(z)\n",
        "type(z)\n"
      ],
      "metadata": {
        "colab": {
          "base_uri": "https://localhost:8080/"
        },
        "id": "WDrSElIVTUoD",
        "outputId": "e41aafae-d1c3-465f-c44d-2650a923eac4"
      },
      "execution_count": 1,
      "outputs": [
        {
          "output_type": "stream",
          "name": "stdout",
          "text": [
            "('a', 'b', 'c')\n"
          ]
        },
        {
          "output_type": "execute_result",
          "data": {
            "text/plain": [
              "tuple"
            ]
          },
          "metadata": {},
          "execution_count": 1
        }
      ]
    },
    {
      "cell_type": "markdown",
      "source": [
        "2.what is deffrence between singe =, and ==.\n",
        "\n"
      ],
      "metadata": {
        "id": "57ErdgnVTwrk"
      }
    },
    {
      "cell_type": "code",
      "source": [
        "a = 10\n",
        "b = 10\n",
        "a == b"
      ],
      "metadata": {
        "colab": {
          "base_uri": "https://localhost:8080/"
        },
        "id": "B9TKjPqYT9qS",
        "outputId": "52210fac-c558-40f1-b859-4ea24b6db7df"
      },
      "execution_count": 2,
      "outputs": [
        {
          "output_type": "execute_result",
          "data": {
            "text/plain": [
              "True"
            ]
          },
          "metadata": {},
          "execution_count": 2
        }
      ]
    },
    {
      "cell_type": "code",
      "source": [],
      "metadata": {
        "id": "GtnXTZwFUPFR"
      },
      "execution_count": null,
      "outputs": []
    },
    {
      "cell_type": "markdown",
      "source": [
        "3.what is deffrence bw mutabul immutabul.\n",
        "  - mutabul can change , update ,modifiy.\n",
        "  - ex,string\n",
        "  - immutabul we can change .\n",
        "  - ex,tuple.\n"
      ],
      "metadata": {
        "id": "omgauCqrUPpL"
      }
    },
    {
      "cell_type": "markdown",
      "source": [
        "4.write a python code to print first 10 natural number loop."
      ],
      "metadata": {
        "id": "sfKxQ2meUpLW"
      }
    },
    {
      "cell_type": "code",
      "source": [
        "for i in range(1,11):\n",
        "  print(i)\n",
        "\n",
        ""
      ],
      "metadata": {
        "colab": {
          "base_uri": "https://localhost:8080/"
        },
        "id": "gWQ_pyqXXwY_",
        "outputId": "1d0e7899-af79-4f1b-81ba-74d5498b448b"
      },
      "execution_count": 3,
      "outputs": [
        {
          "output_type": "stream",
          "name": "stdout",
          "text": [
            "1\n",
            "2\n",
            "3\n",
            "4\n",
            "5\n",
            "6\n",
            "7\n",
            "8\n",
            "9\n",
            "10\n"
          ]
        }
      ]
    },
    {
      "cell_type": "code",
      "source": [
        "a = 1\n",
        "while a<=10:\n",
        " print(a)\n",
        " a+=1\n"
      ],
      "metadata": {
        "colab": {
          "base_uri": "https://localhost:8080/"
        },
        "id": "3FuoO2a5YGf_",
        "outputId": "5e178955-de9a-4232-9da7-214145c99142"
      },
      "execution_count": 9,
      "outputs": [
        {
          "output_type": "stream",
          "name": "stdout",
          "text": [
            "1\n",
            "2\n",
            "3\n",
            "4\n",
            "5\n",
            "6\n",
            "7\n",
            "8\n",
            "9\n",
            "10\n"
          ]
        }
      ]
    },
    {
      "cell_type": "markdown",
      "source": [
        "5.write a python program sum of first natural numbers."
      ],
      "metadata": {
        "id": "XdbtiyqPY0P2"
      }
    },
    {
      "cell_type": "code",
      "source": [
        "n = [1,2,3,4,5,6,7,8,9,10]\n",
        "sum = 0\n",
        "for i in n:\n",
        "  sum = sum+i\n",
        "print(sum)"
      ],
      "metadata": {
        "colab": {
          "base_uri": "https://localhost:8080/"
        },
        "id": "kjVdd3lrYyye",
        "outputId": "13d1ede2-1dce-4ff1-893f-1884ca5049f2"
      },
      "execution_count": 18,
      "outputs": [
        {
          "output_type": "stream",
          "name": "stdout",
          "text": [
            "55\n"
          ]
        }
      ]
    },
    {
      "cell_type": "code",
      "source": [
        "n=1\n",
        "sum=0\n",
        "while n<=10:\n",
        "  sum=sum+n\n",
        "  n+=1\n",
        "print(sum)\n",
        ""
      ],
      "metadata": {
        "colab": {
          "base_uri": "https://localhost:8080/"
        },
        "id": "1v1QpaDkj0mJ",
        "outputId": "7e6be702-3c6b-4db3-c90e-0c9a507a3956"
      },
      "execution_count": 38,
      "outputs": [
        {
          "output_type": "stream",
          "name": "stdout",
          "text": [
            "55\n"
          ]
        }
      ]
    }
  ]
}